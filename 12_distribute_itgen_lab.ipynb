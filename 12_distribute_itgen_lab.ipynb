{
 "cells": [
  {
   "cell_type": "markdown",
   "metadata": {
    "collapsed": true
   },
   "source": [
    "## Q1.\n",
    "\n",
    "Add methods `__iter__` to your project Time Series class to iterate over values, a method `itertimes` to iterate over times, a method `itervalues` to iterate over values, and a method `iteritems` to iterate over time-value pairs. (This is a similar interface to python dictionaries). To test these, check both the types of the results and the answers you expect."
   ]
  },
  {
   "cell_type": "code",
   "execution_count": 1,
   "metadata": {
    "collapsed": true
   },
   "outputs": [],
   "source": [
    "import math"
   ]
  },
  {
   "cell_type": "markdown",
   "metadata": {},
   "source": [
    "## Q2.\n",
    "\n",
    "An online mean and standard deviation algorithm.\n",
    "\n",
    "Below is a function to generate a potentially infinite stream of 1-D data."
   ]
  },
  {
   "cell_type": "code",
   "execution_count": 2,
   "metadata": {
    "collapsed": false
   },
   "outputs": [],
   "source": [
    "from random import normalvariate, random\n",
    "from itertools import count\n",
    "def make_data(m, stop=None):\n",
    "    for _ in count():\n",
    "        if stop and _ > stop:\n",
    "            break\n",
    "        yield 1.0e09 + normalvariate(0, m*random() )\n",
    "        "
   ]
  },
  {
   "cell_type": "markdown",
   "metadata": {},
   "source": [
    "Here is an implementation of an online mean algorithm..see http://www.johndcook.com/blog/standard_deviation/ and the link to http://www.johndcook.com/blog/2008/09/26/comparing-three-methods-of-computing-standard-deviation/ in-between. (Convince yourselves of the formulas...)"
   ]
  },
  {
   "cell_type": "code",
   "execution_count": 3,
   "metadata": {
    "collapsed": true
   },
   "outputs": [],
   "source": [
    "def online_mean(iterator):\n",
    "    n = 0\n",
    "    mu = 0\n",
    "    for value in iterator:\n",
    "        n += 1\n",
    "        delta = value - mu\n",
    "        mu = mu + delta/n\n",
    "        yield mu"
   ]
  },
  {
   "cell_type": "markdown",
   "metadata": {},
   "source": [
    "We use out generator functions to implement iterators:"
   ]
  },
  {
   "cell_type": "code",
   "execution_count": 4,
   "metadata": {
    "collapsed": false
   },
   "outputs": [
    {
     "data": {
      "text/plain": [
       "[1000000000.1651973,\n",
       " 999999996.7757941,\n",
       " 999999997.258189,\n",
       " 1000000000.3176253,\n",
       " 999999996.5975062,\n",
       " 1000000000.574569,\n",
       " 1000000000.080098,\n",
       " 999999997.6280578,\n",
       " 999999996.7938086,\n",
       " 999999998.112668,\n",
       " 999999999.182761]"
      ]
     },
     "execution_count": 4,
     "metadata": {},
     "output_type": "execute_result"
    }
   ],
   "source": [
    "g = make_data(5, 10)\n",
    "list(g)"
   ]
  },
  {
   "cell_type": "code",
   "execution_count": 5,
   "metadata": {
    "collapsed": false
   },
   "outputs": [
    {
     "name": "stdout",
     "output_type": "stream",
     "text": [
      "<class 'generator'>\n"
     ]
    },
    {
     "data": {
      "text/plain": [
       "[999999999.9603157,\n",
       " 999999997.8893621,\n",
       " 999999998.893588,\n",
       " 1000000000.6896414,\n",
       " 1000000000.5568396,\n",
       " 1000000001.0931848,\n",
       " 1000000000.9773989,\n",
       " 1000000001.2357879,\n",
       " 1000000001.084495,\n",
       " 1000000000.9022137,\n",
       " 1000000000.6835046,\n",
       " 1000000001.0621428,\n",
       " 1000000001.0125499,\n",
       " 1000000000.7525662,\n",
       " 1000000000.953211,\n",
       " 1000000001.2077235,\n",
       " 1000000001.1367694,\n",
       " 1000000001.1712629,\n",
       " 1000000001.2522962,\n",
       " 1000000001.0626787,\n",
       " 1000000000.8445464,\n",
       " 1000000000.7068657,\n",
       " 1000000000.669386,\n",
       " 1000000000.5399154,\n",
       " 1000000000.4595795,\n",
       " 1000000000.5181054,\n",
       " 1000000000.6351154,\n",
       " 1000000000.61227,\n",
       " 1000000000.6649035,\n",
       " 1000000000.6608326,\n",
       " 1000000000.6339375,\n",
       " 1000000000.6622217,\n",
       " 1000000000.6410437,\n",
       " 1000000000.4901657,\n",
       " 1000000000.7092863,\n",
       " 1000000000.6843334,\n",
       " 1000000000.6679525,\n",
       " 1000000000.6604654,\n",
       " 1000000000.4844692,\n",
       " 1000000000.5208037,\n",
       " 1000000000.531698,\n",
       " 1000000000.5815014,\n",
       " 1000000000.5063007,\n",
       " 1000000000.450988,\n",
       " 1000000000.2205423,\n",
       " 1000000000.322192,\n",
       " 1000000000.4101021,\n",
       " 1000000000.4850068,\n",
       " 1000000000.4306083,\n",
       " 1000000000.4218355,\n",
       " 1000000000.3828872,\n",
       " 1000000000.3626629,\n",
       " 1000000000.3256269,\n",
       " 1000000000.3239383,\n",
       " 1000000000.2291001,\n",
       " 1000000000.2707059,\n",
       " 1000000000.3125244,\n",
       " 1000000000.2282587,\n",
       " 1000000000.2414802,\n",
       " 1000000000.1694,\n",
       " 1000000000.1637038,\n",
       " 1000000000.167403,\n",
       " 1000000000.17136,\n",
       " 1000000000.1653864,\n",
       " 1000000000.1681194,\n",
       " 1000000000.173321,\n",
       " 1000000000.1708869,\n",
       " 1000000000.166944,\n",
       " 1000000000.1700239,\n",
       " 1000000000.2017202,\n",
       " 1000000000.2132709,\n",
       " 1000000000.2072073,\n",
       " 1000000000.1999277,\n",
       " 1000000000.1787947,\n",
       " 1000000000.2085133,\n",
       " 1000000000.2025309,\n",
       " 1000000000.2173613,\n",
       " 1000000000.20842,\n",
       " 1000000000.2052637,\n",
       " 1000000000.2089937,\n",
       " 1000000000.2384678,\n",
       " 1000000000.2386447,\n",
       " 1000000000.1774166,\n",
       " 1000000000.1844761,\n",
       " 1000000000.1908703,\n",
       " 1000000000.0811602,\n",
       " 1000000000.0914932,\n",
       " 1000000000.0818087,\n",
       " 1000000000.0820948,\n",
       " 1000000000.0868402,\n",
       " 1000000000.0727404,\n",
       " 1000000000.1135367,\n",
       " 1000000000.099703,\n",
       " 1000000000.0904937,\n",
       " 1000000000.1048045,\n",
       " 1000000000.1035761,\n",
       " 1000000000.069106,\n",
       " 1000000000.0640126,\n",
       " 1000000000.0327973,\n",
       " 1000000000.0496099,\n",
       " 1000000000.0495092]"
      ]
     },
     "execution_count": 5,
     "metadata": {},
     "output_type": "execute_result"
    }
   ],
   "source": [
    "g = online_mean(make_data(5, 100))\n",
    "print(type(g))\n",
    "list(g)"
   ]
  },
  {
   "cell_type": "markdown",
   "metadata": {},
   "source": [
    "### 2.1\n",
    "\n",
    "Implement the standard deviation algorithm as a generator function as\n",
    "\n",
    "```python\n",
    "def online_mean_dev(iterator):\n",
    "    BLA BLA\n",
    "    if n > 1:\n",
    "        stddev = math.sqrt(dev_accum/(n-1))\n",
    "        yield (n, value, mu, stddev)\n",
    "```"
   ]
  },
  {
   "cell_type": "code",
   "execution_count": 6,
   "metadata": {
    "collapsed": false
   },
   "outputs": [],
   "source": [
    "def online_mean_dev(iterator):\n",
    "    var = 0\n",
    "    mu = 0\n",
    "    n = 0\n",
    "    for value in iterator:\n",
    "        n += 1\n",
    "        mu_n = mu + (value - mu)/n\n",
    "        var +=  (value - mu)*(value - mu_n)\n",
    "        mu = mu_n\n",
    "\n",
    "        if n > 1:\n",
    "            stddev = math.sqrt(var/(n-1))\n",
    "            yield (n, value, mu, stddev)"
   ]
  },
  {
   "cell_type": "markdown",
   "metadata": {},
   "source": [
    "Here we make 100000 element data, and run this iterator on it (imagine running this on a time-series being slowly read from disk"
   ]
  },
  {
   "cell_type": "code",
   "execution_count": 7,
   "metadata": {
    "collapsed": true
   },
   "outputs": [],
   "source": [
    "data_with_stats = online_mean_dev(make_data(5, 100000))"
   ]
  },
  {
   "cell_type": "markdown",
   "metadata": {},
   "source": [
    "## Q3.\n",
    "\n",
    "Let's do Anomaly detection. Write a routine `is_ok`:\n",
    "\n",
    "```python\n",
    "def is_ok(level, t)\n",
    "```\n",
    "\n",
    "which takes a tuple like the one yielded by your code above and returns True if the value is inbetween `level`-$\\sigma$ of the mean."
   ]
  },
  {
   "cell_type": "code",
   "execution_count": 8,
   "metadata": {
    "collapsed": true
   },
   "outputs": [],
   "source": [
    "def is_ok(level, t):\n",
    "    n,value,mu,stdev = t\n",
    "    \n",
    "    return abs((value - mu)/stdev) < level"
   ]
  },
  {
   "cell_type": "markdown",
   "metadata": {},
   "source": [
    "We use this function to create a predicate passed through to `itertools.filterfalse` which is then used to obtain an iterator on the anomalies."
   ]
  },
  {
   "cell_type": "code",
   "execution_count": 9,
   "metadata": {
    "collapsed": true
   },
   "outputs": [],
   "source": [
    "from itertools import filterfalse\n",
    "pred = lambda t: is_ok(5, t)\n",
    "anomalies = filterfalse(pred, data_with_stats)"
   ]
  },
  {
   "cell_type": "markdown",
   "metadata": {},
   "source": [
    "We materialize the anomalies..."
   ]
  },
  {
   "cell_type": "code",
   "execution_count": 10,
   "metadata": {
    "collapsed": false
   },
   "outputs": [
    {
     "data": {
      "text/plain": [
       "[(4902, 1000000016.2932473, 1000000000.0333636, 2.85510038949931),\n",
       " (5379, 999999985.439479, 1000000000.0211384, 2.870248415107049),\n",
       " (6469, 1000000014.5391358, 1000000000.0340708, 2.8619185741441764),\n",
       " (7641, 1000000016.455661, 1000000000.0389076, 2.8726261309647114),\n",
       " (23440, 999999983.0382384, 999999999.9936624, 2.8970535392453427),\n",
       " (26862, 1000000015.509879, 999999999.9880424, 2.8890868150181213),\n",
       " (29884, 999999984.8960956, 999999999.9869593, 2.903407526712833),\n",
       " (30160, 999999985.1752106, 999999999.9849819, 2.903111242969281),\n",
       " (30662, 1000000015.6644803, 999999999.9868735, 2.906454949375207),\n",
       " (37206, 999999981.5520903, 999999999.9876082, 2.9087465060107682),\n",
       " (38828, 999999982.3285216, 999999999.9881566, 2.908474771907184),\n",
       " (40645, 999999983.5374833, 999999999.9905467, 2.903150329138423),\n",
       " (44989, 999999982.8132724, 999999999.9943061, 2.907147367157982),\n",
       " (45430, 1000000017.8590502, 999999999.9936498, 2.908451635172009),\n",
       " (45652, 999999983.611526, 999999999.9930124, 2.909890133475056),\n",
       " (47457, 1000000014.6701869, 999999999.9928051, 2.9060354850408245),\n",
       " (54431, 1000000020.0752958, 999999999.9955965, 2.904588895022427),\n",
       " (54473, 1000000015.38139, 999999999.9956777, 2.9050989656382784),\n",
       " (61697, 1000000016.4629643, 999999999.9988912, 2.9028474963864754),\n",
       " (65580, 1000000017.8196433, 999999999.9982497, 2.9015807691452635),\n",
       " (70873, 999999984.567052, 999999999.9962889, 2.897233774851069),\n",
       " (78165, 1000000014.7932528, 999999999.9931039, 2.8923085149681653),\n",
       " (78473, 999999984.5547463, 999999999.9920413, 2.8932337016650727),\n",
       " (81475, 999999985.4242554, 999999999.9928012, 2.8914839057734962),\n",
       " (83630, 1000000017.1189626, 999999999.9929241, 2.890305232850945),\n",
       " (84089, 999999984.429934, 999999999.993462, 2.8912905552276573),\n",
       " (85065, 1000000015.9337654, 999999999.9923141, 2.8908372730074685),\n",
       " (91380, 1000000014.6254984, 999999999.9901009, 2.8905066983473993)]"
      ]
     },
     "execution_count": 10,
     "metadata": {},
     "output_type": "execute_result"
    }
   ],
   "source": [
    "list(anomalies)#materialize"
   ]
  },
  {
   "cell_type": "markdown",
   "metadata": {},
   "source": [
    "## To think of, but not hand in\n",
    "\n",
    "What kinds of anomalies will this algorithm pick up? What kinds would a shorter \"window\" of anomaly detection, like 100 points around the time in question pick? How might you create an algorithm which does window based averaging? (hint: the window size is small compared to the time series size). \n",
    "\n",
    "Finally think a bit of how you might implement all of this in a production environment..remember that data streaming in might get backed up when you handle an anomaly.\n",
    "\n",
    "(Some inspiration might accrue if you look at the docs for `collections.deque`)."
   ]
  },
  {
   "cell_type": "code",
   "execution_count": null,
   "metadata": {
    "collapsed": true
   },
   "outputs": [],
   "source": []
  }
 ],
 "metadata": {
  "kernelspec": {
   "display_name": "Python 3",
   "language": "python",
   "name": "python3"
  },
  "language_info": {
   "codemirror_mode": {
    "name": "ipython",
    "version": 3
   },
   "file_extension": ".py",
   "mimetype": "text/x-python",
   "name": "python",
   "nbconvert_exporter": "python",
   "pygments_lexer": "ipython3",
   "version": "3.5.1"
  }
 },
 "nbformat": 4,
 "nbformat_minor": 0
}
