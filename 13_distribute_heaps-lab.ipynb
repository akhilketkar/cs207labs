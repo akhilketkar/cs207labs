{
 "cells": [
  {
   "cell_type": "markdown",
   "metadata": {
    "collapsed": true
   },
   "source": [
    "## Q1.  Max heap\n",
    "\n",
    "Implement a max heap instead of a min heap, by having the constructor explicitly pass the \"comparison\" operator in. Replace `min` and `del_min` by `dominant` and `del_dominant` methods. Change the classmethods to also take in the operator."
   ]
  },
  {
   "cell_type": "code",
   "execution_count": 15,
   "metadata": {
    "collapsed": true
   },
   "outputs": [],
   "source": [
    "class BinaryHeap:\n",
    "    def __init__(self,func):\n",
    "        self.storage=[None]\n",
    "        self.upto=0\n",
    "        self.dominates = func\n",
    "        \n",
    "    @classmethod\n",
    "    def heapify_slow(cls, it, func):\n",
    "        inst = cls(func)\n",
    "        for i in it:\n",
    "            inst.insert(i)\n",
    "        return inst\n",
    "            \n",
    "    def insert(self, value):\n",
    "        self.storage.append(value)\n",
    "        self.upto += 1\n",
    "        self.sift_up(self.upto)\n",
    "\n",
    "    def sift_up(self, i):\n",
    "        parent = i // 2\n",
    "        if parent > 0 and self.dominates(self.storage[i], self.storage[parent]):\n",
    "            self.storage[i], self.storage[parent] = self.storage[parent], self.storage[i]\n",
    "            self.sift_up(parent)\n",
    "     \n",
    "    def _dom_child(self, i):\n",
    "        if 2*i + 1 > self.upto:\n",
    "            return 2*i\n",
    "        else:\n",
    "            if self.dominates(self.storage[2*i],self.storage[2*1+1]):\n",
    "                return 2*i\n",
    "            else:\n",
    "                return 2*i + 1\n",
    "    \n",
    "    def sift_down(self, i):\n",
    "        if 2*i <= self.upto:\n",
    "            child = self._dom_child(i)\n",
    "            if self.dominates(self.storage[child],self.storage[i]):\n",
    "                self.storage[child], self.storage[i] = self.storage[i], self.storage[child]\n",
    "                self.sift_down(child)\n",
    "        \n",
    "    def dominant(self):\n",
    "        return self.storage[1]\n",
    "    \n",
    "    def del_dominant(self):\n",
    "        delval = self.storage[1]\n",
    "        self.storage[1], self.storage[self.upto] = self.storage[self.upto], self.storage[1]\n",
    "        self.storage.pop()\n",
    "        self.upto -= 1\n",
    "        self.sift_down(1)\n",
    "        return delval\n",
    "    \n",
    "    def heap_sort(self):\n",
    "        orig_upto = self.upto\n",
    "        for i in range(self.upto):\n",
    "            print(\"Before: %d\",i)\n",
    "            print(self.storage)\n",
    "            self.storage[1],self.storage[self.upto] = self.storage[self.upto],self.storage[1]\n",
    "            self.upto -= 1\n",
    "            self.sift_down(1)\n",
    "            print(\"After: %d\",i)\n",
    "            print(self.storage)\n",
    "        self.upto = orig_upto"
   ]
  },
  {
   "cell_type": "markdown",
   "metadata": {},
   "source": [
    "Lets use your code to find the minimum as well as the maximum of the old array. Run the code in the following cells and make sure you did it right..."
   ]
  },
  {
   "cell_type": "code",
   "execution_count": 9,
   "metadata": {
    "collapsed": true
   },
   "outputs": [],
   "source": [
    "data = [1,8,5,9,23,2,45,6,7,99,-5]"
   ]
  },
  {
   "cell_type": "code",
   "execution_count": 10,
   "metadata": {
    "collapsed": false
   },
   "outputs": [
    {
     "name": "stdout",
     "output_type": "stream",
     "text": [
      "[None, -5, 1, 2, 7, 6, 5, 45, 9, 8, 99, 23]\n"
     ]
    },
    {
     "data": {
      "text/plain": [
       "-5"
      ]
     },
     "execution_count": 10,
     "metadata": {},
     "output_type": "execute_result"
    }
   ],
   "source": [
    "from operator import gt, lt\n",
    "bh = BinaryHeap.heapify_slow(data, lt)\n",
    "print(bh.storage)\n",
    "bh.dominant()"
   ]
  },
  {
   "cell_type": "code",
   "execution_count": 12,
   "metadata": {
    "collapsed": false
   },
   "outputs": [
    {
     "name": "stdout",
     "output_type": "stream",
     "text": [
      "[None, 99, 45, 23, 7, 9, 2, 5, 1, 6, 8, -5]\n"
     ]
    },
    {
     "data": {
      "text/plain": [
       "99"
      ]
     },
     "execution_count": 12,
     "metadata": {},
     "output_type": "execute_result"
    }
   ],
   "source": [
    "bh = BinaryHeap.heapify_slow(data, gt)\n",
    "print(bh.storage)\n",
    "bh.dominant()"
   ]
  },
  {
   "cell_type": "markdown",
   "metadata": {},
   "source": [
    "## Q2. Heapsort\n",
    "\n",
    "Heapsort is an algorithm that takes the idea of the selection sort algorithm and replces the inner loop by the use of a max-heap."
   ]
  },
  {
   "cell_type": "code",
   "execution_count": 33,
   "metadata": {
    "collapsed": true
   },
   "outputs": [],
   "source": [
    "def selection_sort(A):\n",
    "    for i in range(len(A)):\n",
    "        print(\"<<<\",A)\n",
    "        min_index = i\n",
    "        for j in range(i+1, len(A)):\n",
    "            if A[j] < A[min_index]:\n",
    "                min_index = j\n",
    "        A[i], A[min_index] = A[min_index], A[i]\n",
    "        print(\">>>\",A)"
   ]
  },
  {
   "cell_type": "code",
   "execution_count": 34,
   "metadata": {
    "collapsed": false
   },
   "outputs": [],
   "source": [
    "selection_sort(data)"
   ]
  },
  {
   "cell_type": "markdown",
   "metadata": {},
   "source": [
    "The basic idea is this. First heapify the entire array. The max should then be the 1st element (save our placeholder None) of the heap's storage. Swap this max with the last element to store the maximum at the end. Now you've put in some new wierd value at the top of the heap and have lost the heap property. You have an additional element at the end.\n",
    "\n",
    "In-place in the array, without making any additional allocations, consider all but the last element to be the new \"heap\". What method in the heap class must we use to restore the heap property?\n",
    "\n",
    "Use this method to sort the array. Print the before and after for each iteration of the outer loop as above. What is the $O(n)$ for this method?"
   ]
  },
  {
   "cell_type": "code",
   "execution_count": 18,
   "metadata": {
    "collapsed": false
   },
   "outputs": [],
   "source": [
    "# I've added a heap sort to the class definition above\n",
    "def heap_sort(data):\n",
    "    bh = BinaryHeap.heapify_slow(data,gt)\n",
    "    bh.heap_sort()\n",
    "    return bh.storage"
   ]
  },
  {
   "cell_type": "code",
   "execution_count": 19,
   "metadata": {
    "collapsed": false
   },
   "outputs": [
    {
     "name": "stdout",
     "output_type": "stream",
     "text": [
      "Before: %d 0\n",
      "[None, 99, 45, 23, 7, 9, 2, 5, 1, 6, 8, -5]\n",
      "After: %d 0\n",
      "[None, 45, 9, 23, 7, 8, 2, 5, 1, 6, -5, 99]\n",
      "Before: %d 1\n",
      "[None, 45, 9, 23, 7, 8, 2, 5, 1, 6, -5, 99]\n",
      "After: %d 1\n",
      "[None, 23, 9, 2, 7, 8, -5, 5, 1, 6, 45, 99]\n",
      "Before: %d 2\n",
      "[None, 23, 9, 2, 7, 8, -5, 5, 1, 6, 45, 99]\n",
      "After: %d 2\n",
      "[None, 9, 7, 2, 6, 8, -5, 5, 1, 23, 45, 99]\n",
      "Before: %d 3\n",
      "[None, 9, 7, 2, 6, 8, -5, 5, 1, 23, 45, 99]\n",
      "After: %d 3\n",
      "[None, 7, 6, 2, 1, 8, -5, 5, 9, 23, 45, 99]\n",
      "Before: %d 4\n",
      "[None, 7, 6, 2, 1, 8, -5, 5, 9, 23, 45, 99]\n",
      "After: %d 4\n",
      "[None, 6, 8, 2, 1, 5, -5, 7, 9, 23, 45, 99]\n",
      "Before: %d 5\n",
      "[None, 6, 8, 2, 1, 5, -5, 7, 9, 23, 45, 99]\n",
      "After: %d 5\n",
      "[None, 8, 5, 2, 1, -5, 6, 7, 9, 23, 45, 99]\n",
      "Before: %d 6\n",
      "[None, 8, 5, 2, 1, -5, 6, 7, 9, 23, 45, 99]\n",
      "After: %d 6\n",
      "[None, 5, 1, 2, -5, 8, 6, 7, 9, 23, 45, 99]\n",
      "Before: %d 7\n",
      "[None, 5, 1, 2, -5, 8, 6, 7, 9, 23, 45, 99]\n",
      "After: %d 7\n",
      "[None, 2, 1, -5, 5, 8, 6, 7, 9, 23, 45, 99]\n",
      "Before: %d 8\n",
      "[None, 2, 1, -5, 5, 8, 6, 7, 9, 23, 45, 99]\n",
      "After: %d 8\n",
      "[None, 1, -5, 2, 5, 8, 6, 7, 9, 23, 45, 99]\n",
      "Before: %d 9\n",
      "[None, 1, -5, 2, 5, 8, 6, 7, 9, 23, 45, 99]\n",
      "After: %d 9\n",
      "[None, -5, 1, 2, 5, 8, 6, 7, 9, 23, 45, 99]\n",
      "Before: %d 10\n",
      "[None, -5, 1, 2, 5, 8, 6, 7, 9, 23, 45, 99]\n",
      "After: %d 10\n",
      "[None, -5, 1, 2, 5, 8, 6, 7, 9, 23, 45, 99]\n"
     ]
    },
    {
     "data": {
      "text/plain": [
       "[None, -5, 1, 2, 5, 8, 6, 7, 9, 23, 45, 99]"
      ]
     },
     "execution_count": 19,
     "metadata": {},
     "output_type": "execute_result"
    }
   ],
   "source": [
    "heap_sort(data)"
   ]
  },
  {
   "cell_type": "markdown",
   "metadata": {},
   "source": [
    "*your answer here*\n"
   ]
  },
  {
   "cell_type": "markdown",
   "metadata": {},
   "source": [
    "## Q3. Median maintenance\n",
    "\n",
    "Median maintenance is a very cool algorithm to find an online median. \n",
    "\n",
    "We create two arrays to test our implementation, using `np.median` to compute our answer..."
   ]
  },
  {
   "cell_type": "code",
   "execution_count": 20,
   "metadata": {
    "collapsed": false
   },
   "outputs": [],
   "source": [
    "import random\n",
    "import numpy as np"
   ]
  },
  {
   "cell_type": "code",
   "execution_count": 21,
   "metadata": {
    "collapsed": false
   },
   "outputs": [
    {
     "name": "stdout",
     "output_type": "stream",
     "text": [
      "150 533.0\n",
      "151 533.0\n"
     ]
    }
   ],
   "source": [
    "l = [random.randint(1,1000) for _ in range(150)]\n",
    "print(len(l), np.median(l))\n",
    "l2 = l + [random.randint(1,1000)]\n",
    "print(len(l2), np.median(l2))"
   ]
  },
  {
   "cell_type": "markdown",
   "metadata": {},
   "source": [
    "You will implement `def online_median(iterator)` which is a generaor yielding successive values of your online median. \n",
    "\n",
    "The algorithm is as follows:\n",
    "\n",
    "We'll use 2 heaps, a max heap for the lower half of the data, and a min-heap for the upper half. We take the first 2values in our data and assign the smaller value to the max heap, while the larger value goes to the min-heap. Then, as we \"insert\" subsequent values in one of the two heaps, the following holds: if we keep the number of elements in both heaps equal (for the even case) or at-most differing by one, the median is respectively the average of the two dominants or the dominant in the heap with one xtra item.\n",
    "\n",
    "What then is our strategy for this balanced insertion? Quite simple really: if a new value is not as dominant as the dominant value, add it to that heap. If it is more dominant, add it to the other. If two items in a row get added to the same heap, the heaps will be out of balance by more than one. In this case, take the dominant element from the larger heap and simply add it to the smaller one."
   ]
  },
  {
   "cell_type": "code",
   "execution_count": 70,
   "metadata": {
    "collapsed": false
   },
   "outputs": [],
   "source": [
    "def online_median(it):\n",
    "    first = True\n",
    "    max_heap = BinaryHeap(gt)\n",
    "    min_heap = BinaryHeap(lt)\n",
    "    \n",
    "    for value in it:\n",
    "        \n",
    "        # insert value\n",
    "        if first :\n",
    "            max_heap.insert(value)\n",
    "            yield value\n",
    "            first = False\n",
    "            continue\n",
    "\n",
    "        if value > max_heap.dominant(): min_heap.insert(value)\n",
    "        else: max_heap.insert(value)\n",
    "\n",
    "        # rebalance\n",
    "        if (max_heap.upto - min_heap.upto) > 1:\n",
    "            min_heap.insert(max_heap.dominant())\n",
    "            max_heap.del_dominant()\n",
    "        elif (min_heap.upto - max_heap.upto) > 1:\n",
    "            max_heap.insert(min_heap.dominant())\n",
    "            min_heap.del_dominant()\n",
    "        \n",
    "        # print(value,max_heap.dominant(),min_heap.dominant())\n",
    "        # yield answer\n",
    "        if max_heap.upto == min_heap.upto:\n",
    "            yield (max_heap.dominant() + min_heap.dominant())/2\n",
    "            continue\n",
    "        elif max_heap.upto > min_heap.upto:\n",
    "            yield max_heap.dominant()\n",
    "            continue\n",
    "        else:\n",
    "            yield min_heap.dominant()\n",
    "            continue\n",
    "            "
   ]
  },
  {
   "cell_type": "markdown",
   "metadata": {},
   "source": [
    "Do your answers match?"
   ]
  },
  {
   "cell_type": "code",
   "execution_count": 71,
   "metadata": {
    "collapsed": false
   },
   "outputs": [
    {
     "name": "stdout",
     "output_type": "stream",
     "text": [
      "533.0\n"
     ]
    },
    {
     "data": {
      "text/plain": [
       "[<matplotlib.lines.Line2D at 0x10f07f898>]"
      ]
     },
     "execution_count": 71,
     "metadata": {},
     "output_type": "execute_result"
    },
    {
     "data": {
      "image/png": "[encoded data removed]",
      "text/plain": [
       "<matplotlib.figure.Figure at 0x10e4768d0>"
      ]
     },
     "metadata": {},
     "output_type": "display_data"
    }
   ],
   "source": [
    "%matplotlib inline\n",
    "import matplotlib.pyplot as plt\n",
    "medians = list(online_median(iter(l)))\n",
    "print(medians[-1])\n",
    "plt.plot(medians)"
   ]
  },
  {
   "cell_type": "code",
   "execution_count": 72,
   "metadata": {
    "collapsed": false
   },
   "outputs": [
    {
     "data": {
      "text/plain": [
       "533"
      ]
     },
     "execution_count": 72,
     "metadata": {},
     "output_type": "execute_result"
    }
   ],
   "source": [
    "list(online_median(iter(l2)))[-1]"
   ]
  },
  {
   "cell_type": "markdown",
   "metadata": {},
   "source": [
    "What is the $O(n)$ behavior of this median maintenance algorithm?"
   ]
  },
  {
   "cell_type": "markdown",
   "metadata": {},
   "source": [
    "Each element needs to be inserted into one or the other heap. Insertion into a heap is a n log(n) operation. Every once in a while you need to rebalance the heaps but that operation is also of the same order (n log(n)) and occurs less frequently than n times so the first part dominates.\n",
    "\n",
    "This median maintainence algorithm is thus O(n log(n))\n"
   ]
  },
  {
   "cell_type": "markdown",
   "metadata": {},
   "source": [
    "Lastly, lets repeat the analysis we did last time on the randomly generated data."
   ]
  },
  {
   "cell_type": "code",
   "execution_count": 76,
   "metadata": {
    "collapsed": true
   },
   "outputs": [],
   "source": [
    "from random import normalvariate, random\n",
    "from itertools import count\n",
    "def make_data(m, stop=None):\n",
    "    for _ in count():\n",
    "        if stop and _ > stop:\n",
    "            break\n",
    "        yield 1.0e09 + normalvariate(0, m*random() )"
   ]
  },
  {
   "cell_type": "code",
   "execution_count": 77,
   "metadata": {
    "collapsed": false
   },
   "outputs": [
    {
     "name": "stdout",
     "output_type": "stream",
     "text": [
      "<class 'generator'>\n"
     ]
    },
    {
     "data": {
      "text/plain": [
       "[999999999.8454982,\n",
       " 999999999.9112866,\n",
       " 999999999.8454982,\n",
       " 999999999.9112866,\n",
       " 999999999.9477401,\n",
       " 999999999.9841936,\n",
       " 1000000000.0052114,\n",
       " 999999999.9841936,\n",
       " 999999999.9477401,\n",
       " 999999999.9841936]"
      ]
     },
     "execution_count": 77,
     "metadata": {},
     "output_type": "execute_result"
    }
   ],
   "source": [
    "g = online_median(make_data(5, 100))\n",
    "print(type(g))\n",
    "out = list(g)\n",
    "out[-10:]"
   ]
  },
  {
   "cell_type": "code",
   "execution_count": 78,
   "metadata": {
    "collapsed": false
   },
   "outputs": [
    {
     "data": {
      "text/plain": [
       "[<matplotlib.lines.Line2D at 0x10f421048>]"
      ]
     },
     "execution_count": 78,
     "metadata": {},
     "output_type": "execute_result"
    },
    {
     "data": {
      "image/png": "[encoded data removed]",
      "text/plain": [
       "<matplotlib.figure.Figure at 0x10f196400>"
      ]
     },
     "metadata": {},
     "output_type": "display_data"
    }
   ],
   "source": [
    "plt.plot(out)"
   ]
  },
  {
   "cell_type": "code",
   "execution_count": null,
   "metadata": {
    "collapsed": true
   },
   "outputs": [],
   "source": []
  }
 ],
 "metadata": {
  "kernelspec": {
   "display_name": "Python 3",
   "language": "python",
   "name": "python3"
  },
  "language_info": {
   "codemirror_mode": {
    "name": "ipython",
    "version": 3
   },
   "file_extension": ".py",
   "mimetype": "text/x-python",
   "name": "python",
   "nbconvert_exporter": "python",
   "pygments_lexer": "ipython3",
   "version": "3.5.1"
  }
 },
 "nbformat": 4,
 "nbformat_minor": 0
}
